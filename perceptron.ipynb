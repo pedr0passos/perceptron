{
 "cells": [
  {
   "cell_type": "markdown",
   "id": "aa6d793a",
   "metadata": {},
   "source": [
    "## Implementação de Perceptron de uma camada."
   ]
  },
  {
   "cell_type": "markdown",
   "id": "73f5f8da",
   "metadata": {},
   "source": [
    "Import das Bibliotecas"
   ]
  },
  {
   "cell_type": "code",
   "execution_count": 1,
   "id": "7b03cb66",
   "metadata": {},
   "outputs": [],
   "source": [
    "import numpy as np"
   ]
  },
  {
   "cell_type": "markdown",
   "id": "6788ddd3",
   "metadata": {},
   "source": [
    "### Treinamento da Função AND"
   ]
  },
  {
   "cell_type": "code",
   "execution_count": 2,
   "id": "2489f828",
   "metadata": {},
   "outputs": [],
   "source": [
    "entradas = np.array([[0,0], [0,1], [1,0], [1,1]])\n",
    "saidas = np.array([0, 0, 0, 1])\n",
    "pesos = np.array([0.0,0.0])\n",
    "\n",
    "taxa_aprendizagem = 0.1"
   ]
  },
  {
   "cell_type": "markdown",
   "id": "66badb50",
   "metadata": {},
   "source": [
    "### Funções"
   ]
  },
  {
   "cell_type": "code",
   "execution_count": 3,
   "id": "29d855ce",
   "metadata": {},
   "outputs": [],
   "source": [
    "# função de ativação step function\n",
    "def step_function(soma):\n",
    "    if (soma >= 1): \n",
    "        return 1\n",
    "    return 0\n",
    "\n",
    "# calculo da saida do neuronio, multiplicando os pesos pelas entradas e aplicando a função de ativação\n",
    "def calcular_saida(registro):\n",
    "    soma = registro.dot(pesos)\n",
    "    return step_function(soma)\n",
    "\n",
    "# função de treinamento da rede\n",
    "def treinar():\n",
    "    # somente para entrar no while\n",
    "    erro_total = 1\n",
    "    while erro_total != 0:\n",
    "        erro_total = 0\n",
    "        for i in range(len(saidas)):\n",
    "            saida = calcular_saida(np.asarray(entradas[i]))\n",
    "            erro = abs(saidas[i] - saida)\n",
    "            erro_total += erro\n",
    "            for j in range(len(pesos)):\n",
    "                pesos[j] = pesos[j] + (taxa_aprendizagem * entradas[i][j] * erro)\n",
    "                print(f\"Peso {j} Atualizado: {pesos[j]}\")\n",
    "        print(f\"Erro Total: {erro_total}\")"
   ]
  },
  {
   "cell_type": "code",
   "execution_count": 4,
   "id": "6fa24e66",
   "metadata": {},
   "outputs": [
    {
     "name": "stdout",
     "output_type": "stream",
     "text": [
      "Peso 0 Atualizado: 0.0\n",
      "Peso 1 Atualizado: 0.0\n",
      "Peso 0 Atualizado: 0.0\n",
      "Peso 1 Atualizado: 0.0\n",
      "Peso 0 Atualizado: 0.0\n",
      "Peso 1 Atualizado: 0.0\n",
      "Peso 0 Atualizado: 0.1\n",
      "Peso 1 Atualizado: 0.1\n",
      "Erro Total: 1\n",
      "Peso 0 Atualizado: 0.1\n",
      "Peso 1 Atualizado: 0.1\n",
      "Peso 0 Atualizado: 0.1\n",
      "Peso 1 Atualizado: 0.1\n",
      "Peso 0 Atualizado: 0.1\n",
      "Peso 1 Atualizado: 0.1\n",
      "Peso 0 Atualizado: 0.2\n",
      "Peso 1 Atualizado: 0.2\n",
      "Erro Total: 1\n",
      "Peso 0 Atualizado: 0.2\n",
      "Peso 1 Atualizado: 0.2\n",
      "Peso 0 Atualizado: 0.2\n",
      "Peso 1 Atualizado: 0.2\n",
      "Peso 0 Atualizado: 0.2\n",
      "Peso 1 Atualizado: 0.2\n",
      "Peso 0 Atualizado: 0.30000000000000004\n",
      "Peso 1 Atualizado: 0.30000000000000004\n",
      "Erro Total: 1\n",
      "Peso 0 Atualizado: 0.30000000000000004\n",
      "Peso 1 Atualizado: 0.30000000000000004\n",
      "Peso 0 Atualizado: 0.30000000000000004\n",
      "Peso 1 Atualizado: 0.30000000000000004\n",
      "Peso 0 Atualizado: 0.30000000000000004\n",
      "Peso 1 Atualizado: 0.30000000000000004\n",
      "Peso 0 Atualizado: 0.4\n",
      "Peso 1 Atualizado: 0.4\n",
      "Erro Total: 1\n",
      "Peso 0 Atualizado: 0.4\n",
      "Peso 1 Atualizado: 0.4\n",
      "Peso 0 Atualizado: 0.4\n",
      "Peso 1 Atualizado: 0.4\n",
      "Peso 0 Atualizado: 0.4\n",
      "Peso 1 Atualizado: 0.4\n",
      "Peso 0 Atualizado: 0.5\n",
      "Peso 1 Atualizado: 0.5\n",
      "Erro Total: 1\n",
      "Peso 0 Atualizado: 0.5\n",
      "Peso 1 Atualizado: 0.5\n",
      "Peso 0 Atualizado: 0.5\n",
      "Peso 1 Atualizado: 0.5\n",
      "Peso 0 Atualizado: 0.5\n",
      "Peso 1 Atualizado: 0.5\n",
      "Peso 0 Atualizado: 0.5\n",
      "Peso 1 Atualizado: 0.5\n",
      "Erro Total: 0\n",
      "[0.5 0.5]\n"
     ]
    }
   ],
   "source": [
    "treinar()\n",
    "print(pesos)"
   ]
  },
  {
   "cell_type": "code",
   "execution_count": null,
   "id": "77e521e2",
   "metadata": {},
   "outputs": [],
   "source": []
  }
 ],
 "metadata": {
  "kernelspec": {
   "display_name": "Python 3",
   "language": "python",
   "name": "python3"
  },
  "language_info": {
   "codemirror_mode": {
    "name": "ipython",
    "version": 3
   },
   "file_extension": ".py",
   "mimetype": "text/x-python",
   "name": "python",
   "nbconvert_exporter": "python",
   "pygments_lexer": "ipython3",
   "version": "3.12.3"
  }
 },
 "nbformat": 4,
 "nbformat_minor": 5
}
